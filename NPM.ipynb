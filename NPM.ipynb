{
 "cells": [
  {
   "cell_type": "code",
   "execution_count": 72,
   "id": "d78c78d4",
   "metadata": {},
   "outputs": [
    {
     "name": "stdout",
     "output_type": "stream",
     "text": [
      "Masukkan banyak data : 3\n",
      "\n",
      "\n",
      "Masukkan nama      :Fitri\n",
      "Masukkan nilai     :80\n",
      "\n",
      "\n",
      "Masukkan nama      :Ahmad\n",
      "Masukkan nilai     :58\n",
      "\n",
      "\n",
      "Masukkan nama      :Fadhila\n",
      "Masukkan nilai     :90\n",
      "\n",
      "\n",
      "╒═════════╤═════════╤══════════════╕\n",
      "│ Nama    │   Nilai │ Keterangan   │\n",
      "╞═════════╪═════════╪══════════════╡\n",
      "│ Fitri   │      80 │ LULUS        │\n",
      "├─────────┼─────────┼──────────────┤\n",
      "│ Ahmad   │      58 │ GAGAL        │\n",
      "├─────────┼─────────┼──────────────┤\n",
      "│ Fadhila │      90 │ LULUS        │\n",
      "╘═════════╧═════════╧══════════════╛\n",
      "\n",
      "\n",
      "Rata-rata nilai    : 76\n",
      "Jumlah lulus       : 2\n",
      "Jumlah gagal       : 1\n"
     ]
    }
   ],
   "source": [
    "from tabulate import tabulate\n",
    "import statistics\n",
    "import numpy as np\n",
    "lst = {'Nama':[],'Nilai':[],'Keterangan':[]}\n",
    "str = \"\"\n",
    "sums = 0\n",
    "counts = 0\n",
    "n = int(input(\"Masukkan banyak data : \"))\n",
    "\n",
    "\n",
    "for i in range(0, n):\n",
    "    print(\"\\n\")\n",
    "    ele = [input(\"Masukkan nama      :\"), int(input(\"Masukkan nilai     :\")),\"\"]\n",
    "    if ele[1]>= 70:\n",
    "                ele[2] = \"LULUS\" \n",
    "    if ele[1] < 70:\n",
    "                ele[2] = \"GAGAL\"\n",
    "           \n",
    "    lst[\"Nama\"].append(ele[0])\n",
    "    lst[\"Nilai\"].append(ele[1])\n",
    "    lst[\"Keterangan\"].append(ele[2])\n",
    "print(\"\\n\")\n",
    "print(tabulate(lst,headers='keys',tablefmt='fancy_grid'))\n",
    "print(\"\\n\")\n",
    "\n",
    "\n",
    "lsls = [row[2] for row in lst]\n",
    "print(\"Rata-rata nilai    :\",statistics.mean(lst[\"Nilai\"]))\n",
    "print(\"Jumlah lulus       :\",lst[\"Keterangan\"].count(\"LULUS\"))\n",
    "print(\"Jumlah gagal       :\",lst[\"Keterangan\"].count(\"GAGAL\"))\n",
    "\n",
    "\n"
   ]
  },
  {
   "cell_type": "code",
   "execution_count": null,
   "id": "db871f4b",
   "metadata": {},
   "outputs": [],
   "source": []
  },
  {
   "cell_type": "code",
   "execution_count": null,
   "id": "03da2d24",
   "metadata": {},
   "outputs": [],
   "source": []
  },
  {
   "cell_type": "code",
   "execution_count": null,
   "id": "bb916039",
   "metadata": {},
   "outputs": [],
   "source": []
  },
  {
   "cell_type": "code",
   "execution_count": null,
   "id": "f1d11fc4",
   "metadata": {},
   "outputs": [],
   "source": []
  },
  {
   "cell_type": "code",
   "execution_count": null,
   "id": "987fcdbe",
   "metadata": {},
   "outputs": [],
   "source": []
  }
 ],
 "metadata": {
  "kernelspec": {
   "display_name": "Python 3 (ipykernel)",
   "language": "python",
   "name": "python3"
  },
  "language_info": {
   "codemirror_mode": {
    "name": "ipython",
    "version": 3
   },
   "file_extension": ".py",
   "mimetype": "text/x-python",
   "name": "python",
   "nbconvert_exporter": "python",
   "pygments_lexer": "ipython3",
   "version": "3.10.3"
  }
 },
 "nbformat": 4,
 "nbformat_minor": 5
}
